{
 "cells": [
  {
   "cell_type": "code",
   "execution_count": 1,
   "id": "ad22a5e1",
   "metadata": {},
   "outputs": [],
   "source": [
    "import pandas as pd\n",
    "import numpy as  np\n",
    "import matplotlib.pyplot as plt\n",
    "import seaborn as sns"
   ]
  },
  {
   "cell_type": "code",
   "execution_count": 25,
   "id": "12b9a2ef",
   "metadata": {},
   "outputs": [],
   "source": [
    "## Lunar Landers\n",
    "#ddpglander = \n",
    "ddpghopper0 = pd.read_csv(\"ddpg_HopperBulletEnv-v0_40000_run_0_games.csv\")\n",
    "ddpghopper1 = pd.read_csv(\"ddpg_HopperBulletEnv-v0_40000_run_1_games.csv\")\n",
    "ddpghopper2 = pd.read_csv(\"ddpg_HopperBulletEnv-v0_40000_run_2_games.csv\")\n",
    "ddpgmcar = pd.read_csv(\"ddpg_MountainCarContinuous-v0_20000.csv\")\n",
    "\n",
    "sacmcar = pd.read_csv(\"sac_MountainCarContinuous-v0_2500_run.csv\")\n",
    "sacmcar1 = pd.read_csv(\"sac_MountainCarContinuous-v0_20000_run.csv\")\n",
    "\n",
    "td3bullet = pd.read_csv(\"td3_HopperBulletEnv-v0_40000_run_0_games-steps.csv\")\n",
    "td3lander = pd.read_csv(\"td3_LunarLanderContinuous-v2_2500_run_2_games.csv\")\n",
    "td3mcar1 = pd.read_csv(\"td3_MountainCarContinuous-v0_20000_run_0_games.csv\")\n",
    "td3mcar2  = pd.read_csv(\"td3_MountainCarContinuous-v0_20000_run_1_games.csv\")\n",
    "td3mcar3  = pd.read_csv(\"td3_MountainCarContinuous-v0_20000_run_2_games.csv\")"
   ]
  },
  {
   "cell_type": "code",
   "execution_count": 26,
   "id": "15505aed",
   "metadata": {},
   "outputs": [],
   "source": [
    "# Dropping unnamed column\n",
    "ddpghopper2.drop('Unnamed: 0', axis=1, inplace=True)\n",
    "sacmcar.drop('Unnamed: 0', axis=1, inplace=True)\n",
    "td3bullet.drop('Unnamed: 0', axis=1, inplace=True)\n",
    "td3lander.drop('Unnamed: 0', axis=1, inplace=True)"
   ]
  },
  {
   "cell_type": "code",
   "execution_count": 28,
   "id": "5a8a2849",
   "metadata": {},
   "outputs": [],
   "source": [
    "td3mcar1['Steps'] = 999\n",
    "td3mcar2['Steps'] = 999\n",
    "td3mcar3['Steps'] = 999"
   ]
  },
  {
   "cell_type": "code",
   "execution_count": 40,
   "id": "e938d08d",
   "metadata": {},
   "outputs": [
    {
     "data": {
      "text/plain": [
       "Scores    1765.8\n",
       "Steps        NaN\n",
       "Name: 39801, dtype: float64"
      ]
     },
     "execution_count": 40,
     "metadata": {},
     "output_type": "execute_result"
    }
   ],
   "source": [
    "ddpghopper0.loc[39801]"
   ]
  },
  {
   "cell_type": "code",
   "execution_count": 45,
   "id": "aa3e724c",
   "metadata": {},
   "outputs": [],
   "source": [
    "ddpghopper0.dropna(inplace=True)\n",
    "ddpghopper1.dropna(inplace=True)\n",
    "ddpghopper2.dropna(inplace=True)"
   ]
  },
  {
   "cell_type": "code",
   "execution_count": 55,
   "id": "bd610bc0",
   "metadata": {},
   "outputs": [
    {
     "data": {
      "text/html": [
       "<div>\n",
       "<style scoped>\n",
       "    .dataframe tbody tr th:only-of-type {\n",
       "        vertical-align: middle;\n",
       "    }\n",
       "\n",
       "    .dataframe tbody tr th {\n",
       "        vertical-align: top;\n",
       "    }\n",
       "\n",
       "    .dataframe thead th {\n",
       "        text-align: right;\n",
       "    }\n",
       "</style>\n",
       "<table border=\"1\" class=\"dataframe\">\n",
       "  <thead>\n",
       "    <tr style=\"text-align: right;\">\n",
       "      <th></th>\n",
       "      <th>Scores</th>\n",
       "      <th>Steps</th>\n",
       "    </tr>\n",
       "  </thead>\n",
       "  <tbody>\n",
       "    <tr>\n",
       "      <th>0</th>\n",
       "      <td>-172.314580</td>\n",
       "      <td>72</td>\n",
       "    </tr>\n",
       "    <tr>\n",
       "      <th>1</th>\n",
       "      <td>-287.302869</td>\n",
       "      <td>100</td>\n",
       "    </tr>\n",
       "    <tr>\n",
       "      <th>2</th>\n",
       "      <td>-202.453312</td>\n",
       "      <td>118</td>\n",
       "    </tr>\n",
       "    <tr>\n",
       "      <th>3</th>\n",
       "      <td>-207.531439</td>\n",
       "      <td>99</td>\n",
       "    </tr>\n",
       "    <tr>\n",
       "      <th>4</th>\n",
       "      <td>-80.710516</td>\n",
       "      <td>80</td>\n",
       "    </tr>\n",
       "    <tr>\n",
       "      <th>...</th>\n",
       "      <td>...</td>\n",
       "      <td>...</td>\n",
       "    </tr>\n",
       "    <tr>\n",
       "      <th>2495</th>\n",
       "      <td>283.992710</td>\n",
       "      <td>235</td>\n",
       "    </tr>\n",
       "    <tr>\n",
       "      <th>2496</th>\n",
       "      <td>266.597869</td>\n",
       "      <td>194</td>\n",
       "    </tr>\n",
       "    <tr>\n",
       "      <th>2497</th>\n",
       "      <td>298.790213</td>\n",
       "      <td>258</td>\n",
       "    </tr>\n",
       "    <tr>\n",
       "      <th>2498</th>\n",
       "      <td>277.218958</td>\n",
       "      <td>227</td>\n",
       "    </tr>\n",
       "    <tr>\n",
       "      <th>2499</th>\n",
       "      <td>249.603368</td>\n",
       "      <td>181</td>\n",
       "    </tr>\n",
       "  </tbody>\n",
       "</table>\n",
       "<p>2500 rows × 2 columns</p>\n",
       "</div>"
      ],
      "text/plain": [
       "          Scores  Steps\n",
       "0    -172.314580     72\n",
       "1    -287.302869    100\n",
       "2    -202.453312    118\n",
       "3    -207.531439     99\n",
       "4     -80.710516     80\n",
       "...          ...    ...\n",
       "2495  283.992710    235\n",
       "2496  266.597869    194\n",
       "2497  298.790213    258\n",
       "2498  277.218958    227\n",
       "2499  249.603368    181\n",
       "\n",
       "[2500 rows x 2 columns]"
      ]
     },
     "execution_count": 55,
     "metadata": {},
     "output_type": "execute_result"
    }
   ],
   "source": [
    "td3lander"
   ]
  },
  {
   "cell_type": "code",
   "execution_count": null,
   "id": "20e4e227",
   "metadata": {},
   "outputs": [],
   "source": []
  }
 ],
 "metadata": {
  "kernelspec": {
   "display_name": "Python 3",
   "language": "python",
   "name": "python3"
  },
  "language_info": {
   "codemirror_mode": {
    "name": "ipython",
    "version": 3
   },
   "file_extension": ".py",
   "mimetype": "text/x-python",
   "name": "python",
   "nbconvert_exporter": "python",
   "pygments_lexer": "ipython3",
   "version": "3.8.3"
  }
 },
 "nbformat": 4,
 "nbformat_minor": 5
}
