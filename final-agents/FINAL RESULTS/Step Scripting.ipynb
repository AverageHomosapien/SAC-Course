{
 "cells": [
  {
   "cell_type": "code",
   "execution_count": 1,
   "id": "adb3f6a1",
   "metadata": {},
   "outputs": [],
   "source": [
    "import pandas as pd\n",
    "import numpy as  np\n",
    "import matplotlib.pyplot as plt\n",
    "import seaborn as sns"
   ]
  },
  {
   "cell_type": "code",
   "execution_count": 2,
   "id": "f7dece70",
   "metadata": {},
   "outputs": [],
   "source": [
    "def plot_df(old_df, step=100, plot=False):\n",
    "    new_df = pd.DataFrame()\n",
    "    for i in range(0, len(old_df), step):\n",
    "        new_df = new_df.append(old_df[0+i:step+i].mean(), ignore_index=True)\n",
    "    if plot:\n",
    "        plt.plot(new_df)\n",
    "    return new_df    "
   ]
  },
  {
   "cell_type": "code",
   "execution_count": 4,
   "id": "78b6034b",
   "metadata": {},
   "outputs": [],
   "source": [
    "## Lunar Landers\n",
    "#ddpglander = \n",
    "ddpghopper0 = pd.read_csv(\"steps/ddpg_HopperBulletEnv-v0_40000_run_0_games.csv\")\n",
    "ddpghopper1 = pd.read_csv(\"steps/ddpg_HopperBulletEnv-v0_40000_run_1_games.csv\")\n",
    "ddpghopper2 = pd.read_csv(\"steps/ddpg_HopperBulletEnv-v0_40000_run_2_games.csv\")\n",
    "ddpgmcar = pd.read_csv(\"steps/ddpg_MountainCarContinuous-v0_20000.csv\")\n",
    "\n",
    "sacmcar = pd.read_csv(\"steps/sac_MountainCarContinuous-v0_2500_run.csv\")\n",
    "sacmcar1 = pd.read_csv(\"steps/sac_MountainCarContinuous-v0_20000_run.csv\")\n",
    "\n",
    "td3bullet = pd.read_csv(\"steps/td3_HopperBulletEnv-v0_40000_run_0_games-steps.csv\")\n",
    "td3lander = pd.read_csv(\"steps/td3_LunarLanderContinuous-v2_2500_run_2_games.csv\")\n",
    "td3mcar1 = pd.read_csv(\"steps/td3_MountainCarContinuous-v0_20000_run_0_games.csv\")\n",
    "td3mcar2  = pd.read_csv(\"steps/td3_MountainCarContinuous-v0_20000_run_1_games.csv\")\n",
    "td3mcar3  = pd.read_csv(\"steps/td3_MountainCarContinuous-v0_20000_run_2_games.csv\")"
   ]
  },
  {
   "cell_type": "code",
   "execution_count": null,
   "id": "e579af1e",
   "metadata": {},
   "outputs": [],
   "source": [
    "# Dropping unnamed column\n",
    "ddpghopper2.drop('Unnamed: 0', axis=1, inplace=True)\n",
    "sacmcar.drop('Unnamed: 0', axis=1, inplace=True)\n",
    "td3bullet.drop('Unnamed: 0', axis=1, inplace=True)\n",
    "td3lander.drop('Unnamed: 0', axis=1, inplace=True)"
   ]
  },
  {
   "cell_type": "code",
   "execution_count": null,
   "id": "9e93d17c",
   "metadata": {},
   "outputs": [],
   "source": [
    "td3mcar1['Steps'] = 999\n",
    "td3mcar2['Steps'] = 999\n",
    "td3mcar3['Steps'] = 999"
   ]
  },
  {
   "cell_type": "code",
   "execution_count": null,
   "id": "fd5d6322",
   "metadata": {},
   "outputs": [],
   "source": [
    "ddpghopper0.loc[39801]"
   ]
  },
  {
   "cell_type": "code",
   "execution_count": null,
   "id": "99576bcd",
   "metadata": {},
   "outputs": [],
   "source": [
    "ddpghopper0.dropna(inplace=True)\n",
    "ddpghopper1.dropna(inplace=True)\n",
    "ddpghopper2.dropna(inplace=True)"
   ]
  },
  {
   "cell_type": "code",
   "execution_count": null,
   "id": "3e5bc15d",
   "metadata": {},
   "outputs": [],
   "source": [
    "dfs = [ddpghopper0, ddpghopper1, ddpghopper2, ddpgmcar, sacmcar, sacmcar1, td3bullet, td3lander, td3mcar1, td3mcar2, td3mcar3]\n",
    "for df in dfs:\n",
    "    df['Steps'] = df['Steps'] + 1"
   ]
  },
  {
   "cell_type": "code",
   "execution_count": null,
   "id": "cdba2e61",
   "metadata": {},
   "outputs": [],
   "source": [
    "for df in dfs:\n",
    "    for i in range(1,len(df)):\n",
    "        df.loc[i, 'Steps'] += df.loc[i-1][1]"
   ]
  },
  {
   "cell_type": "code",
   "execution_count": null,
   "id": "3889a85c",
   "metadata": {},
   "outputs": [],
   "source": [
    "#td3landerstepsc = plot_df(td3landersteps, step=10)\n",
    "#sns.lineplot(x=\"Steps\", y=\"Scores\", data=td3landerstepsc, ci='sd')"
   ]
  },
  {
   "cell_type": "code",
   "execution_count": null,
   "id": "f50d52f9",
   "metadata": {
    "scrolled": false
   },
   "outputs": [],
   "source": [
    "ddpghopper0c = plot_df(ddpghopper0, step=100)\n",
    "sns.lineplot(x=\"Steps\", y=\"Scores\", data=ddpghopper0c, ci='sd')"
   ]
  },
  {
   "cell_type": "code",
   "execution_count": null,
   "id": "1d612ba2",
   "metadata": {},
   "outputs": [],
   "source": [
    "ddpghopper0c = ddpghopper0.loc[ddpghopper0['Steps']<1000000]\n",
    "ddpghopper1c = ddpghopper1.loc[ddpghopper1['Steps']<1000000]\n",
    "ddpghopper2c = ddpghopper2.loc[ddpghopper2['Steps']<1000000]\n",
    "\n",
    "ddpghopper0avg = plot_df(ddpghopper0c, step=20)\n",
    "ddpghopper1avg = plot_df(ddpghopper1c, step=20)\n",
    "ddpghopper2avg = plot_df(ddpghopper2c, step=20)\n",
    "\n",
    "ddpghopper0avg['Run'] = 1\n",
    "ddpghopper1avg['Run'] = 2\n",
    "ddpghopper2avg['Run'] = 3\n",
    "\n",
    "ddpghoppers = pd.concat([ddpghopper0avg, ddpghopper1avg, ddpghopper2avg])"
   ]
  },
  {
   "cell_type": "code",
   "execution_count": null,
   "id": "085b6262",
   "metadata": {},
   "outputs": [],
   "source": [
    "#ddpghopper0c2plt = plot_df(ddpghopper0c2, step=10)\n",
    "#sns.lineplot(x=\"Steps\", y=\"Scores\", data=ddpghopper0c2plt, ci='sd')"
   ]
  },
  {
   "cell_type": "code",
   "execution_count": null,
   "id": "09947c3d",
   "metadata": {},
   "outputs": [],
   "source": [
    "sns.lineplot(x=\"Steps\", y=\"Scores\", data=ddpghoppers, hue='Run', ci='sd')"
   ]
  },
  {
   "cell_type": "code",
   "execution_count": null,
   "id": "a7bd07ba",
   "metadata": {},
   "outputs": [],
   "source": [
    "sacmcarc = sacmcar.loc[sacmcar['Steps']<1000000]\n",
    "sacmcar1c = sacmcar1.loc[sacmcar1['Steps']<1000000]\n",
    "\n",
    "sacmcaravg = plot_df(sacmcarc, step=20)\n",
    "sacmcar1avg = plot_df(sacmcar1c, step=20)\n",
    "\n",
    "sacmcaravg['Run'] = 1\n",
    "sacmcar1avg['Run'] = 2\n",
    "\n",
    "sacmcars = pd.concat([sacmcaravg, sacmcar1avg])"
   ]
  },
  {
   "cell_type": "code",
   "execution_count": null,
   "id": "c934f858",
   "metadata": {},
   "outputs": [],
   "source": [
    "sns.lineplot(x=\"Steps\", y=\"Scores\", data=sacmcars, hue='Run', ci='sd')"
   ]
  },
  {
   "cell_type": "code",
   "execution_count": null,
   "id": "3445bea3",
   "metadata": {},
   "outputs": [],
   "source": []
  },
  {
   "cell_type": "code",
   "execution_count": null,
   "id": "662f67f7",
   "metadata": {},
   "outputs": [],
   "source": []
  }
 ],
 "metadata": {
  "kernelspec": {
   "display_name": "Python 3",
   "language": "python",
   "name": "python3"
  },
  "language_info": {
   "codemirror_mode": {
    "name": "ipython",
    "version": 3
   },
   "file_extension": ".py",
   "mimetype": "text/x-python",
   "name": "python",
   "nbconvert_exporter": "python",
   "pygments_lexer": "ipython3",
   "version": "3.8.3"
  }
 },
 "nbformat": 4,
 "nbformat_minor": 5
}
