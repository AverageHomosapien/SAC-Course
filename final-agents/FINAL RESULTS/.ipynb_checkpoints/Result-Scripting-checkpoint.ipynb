{
 "cells": [
  {
   "cell_type": "code",
   "execution_count": 1,
   "id": "a83da0b0",
   "metadata": {},
   "outputs": [],
   "source": [
    "import pandas as pd\n",
    "import numpy as  np\n",
    "import matplotlib.pyplot as plt\n",
    "import seaborn as sns"
   ]
  },
  {
   "cell_type": "code",
   "execution_count": 2,
   "id": "6af07a99",
   "metadata": {},
   "outputs": [],
   "source": [
    "def plot_df(old_df, step=100, plot=False):\n",
    "    new_df = pd.DataFrame()\n",
    "    for i in range(0, len(old_df), step):\n",
    "        new_df = new_df.append(old_df[0+i:step+i].mean(), ignore_index=True)\n",
    "    if plot:\n",
    "        plt.plot(new_df)\n",
    "    return new_df    "
   ]
  },
  {
   "cell_type": "code",
   "execution_count": 3,
   "id": "4609730a",
   "metadata": {},
   "outputs": [],
   "source": [
    "## Lunar Landers\n",
    "ddpglander1 = pd.read_csv(\"ddpg_LunarLanderContinuous-v2_20000_run_0_games.csv\")\n",
    "ddpglander2 = pd.read_csv(\"ddpg_LunarLanderContinuous-v2_20000_run_1_games.csv\")\n",
    "ddpglander3 = pd.read_csv(\"ddpg_LunarLanderContinuous-v2_20000_run_2_games.csv\")\n",
    "\n",
    "td3lander1 = pd.read_csv(\"td3_LunarLanderContinuous-v2_20000_run_0_games.csv\")\n",
    "td3lander2 = pd.read_csv(\"td3_LunarLanderContinuous-v2_20000_run_1_games.csv\")\n",
    "td3lander3 = pd.read_csv(\"td3_LunarLanderContinuous-v2_20000_run_2_games.csv\")\n",
    "\n",
    "saclander1 = pd.read_csv(\"sac_LunarLanderContinuous-v2_20000_run_0_games.csv\")\n",
    "saclander2 = pd.read_csv(\"sac_LunarLanderContinuous-v2_20000_run_1_games.csv\")\n",
    "saclander3 = pd.read_csv(\"sac_LunarLanderContinuous-v2_20000_run_2_games.csv\")\n",
    "\n",
    "# Averages\n",
    "ddpglander1avg = plot_df(ddpglander1)\n",
    "ddpglander2avg = plot_df(ddpglander2)\n",
    "ddpglander3avg = plot_df(ddpglander3)\n",
    "\n",
    "td3lander1avg = plot_df(td3lander1)\n",
    "td3lander2avg = plot_df(td3lander2)\n",
    "td3lander3avg = plot_df(td3lander3)\n",
    "\n",
    "saclander1avg = plot_df(saclander1)\n",
    "saclander2avg = plot_df(saclander2)\n",
    "saclander3avg = plot_df(saclander3)"
   ]
  },
  {
   "cell_type": "code",
   "execution_count": 4,
   "id": "dacec201",
   "metadata": {},
   "outputs": [
    {
     "data": {
      "text/html": [
       "<div>\n",
       "<style scoped>\n",
       "    .dataframe tbody tr th:only-of-type {\n",
       "        vertical-align: middle;\n",
       "    }\n",
       "\n",
       "    .dataframe tbody tr th {\n",
       "        vertical-align: top;\n",
       "    }\n",
       "\n",
       "    .dataframe thead th {\n",
       "        text-align: right;\n",
       "    }\n",
       "</style>\n",
       "<table border=\"1\" class=\"dataframe\">\n",
       "  <thead>\n",
       "    <tr style=\"text-align: right;\">\n",
       "      <th></th>\n",
       "      <th>result</th>\n",
       "      <th>run</th>\n",
       "      <th>network</th>\n",
       "    </tr>\n",
       "  </thead>\n",
       "  <tbody>\n",
       "    <tr>\n",
       "      <th>0</th>\n",
       "      <td>-639.513797</td>\n",
       "      <td>0</td>\n",
       "      <td>DDPG</td>\n",
       "    </tr>\n",
       "    <tr>\n",
       "      <th>1</th>\n",
       "      <td>-124.734663</td>\n",
       "      <td>1</td>\n",
       "      <td>DDPG</td>\n",
       "    </tr>\n",
       "    <tr>\n",
       "      <th>2</th>\n",
       "      <td>-62.216769</td>\n",
       "      <td>2</td>\n",
       "      <td>DDPG</td>\n",
       "    </tr>\n",
       "    <tr>\n",
       "      <th>3</th>\n",
       "      <td>-28.504377</td>\n",
       "      <td>3</td>\n",
       "      <td>DDPG</td>\n",
       "    </tr>\n",
       "    <tr>\n",
       "      <th>4</th>\n",
       "      <td>25.417949</td>\n",
       "      <td>4</td>\n",
       "      <td>DDPG</td>\n",
       "    </tr>\n",
       "    <tr>\n",
       "      <th>...</th>\n",
       "      <td>...</td>\n",
       "      <td>...</td>\n",
       "      <td>...</td>\n",
       "    </tr>\n",
       "    <tr>\n",
       "      <th>195</th>\n",
       "      <td>117.113897</td>\n",
       "      <td>195</td>\n",
       "      <td>SAC</td>\n",
       "    </tr>\n",
       "    <tr>\n",
       "      <th>196</th>\n",
       "      <td>117.453748</td>\n",
       "      <td>196</td>\n",
       "      <td>SAC</td>\n",
       "    </tr>\n",
       "    <tr>\n",
       "      <th>197</th>\n",
       "      <td>114.541826</td>\n",
       "      <td>197</td>\n",
       "      <td>SAC</td>\n",
       "    </tr>\n",
       "    <tr>\n",
       "      <th>198</th>\n",
       "      <td>116.738267</td>\n",
       "      <td>198</td>\n",
       "      <td>SAC</td>\n",
       "    </tr>\n",
       "    <tr>\n",
       "      <th>199</th>\n",
       "      <td>114.742485</td>\n",
       "      <td>199</td>\n",
       "      <td>SAC</td>\n",
       "    </tr>\n",
       "  </tbody>\n",
       "</table>\n",
       "<p>1800 rows × 3 columns</p>\n",
       "</div>"
      ],
      "text/plain": [
       "         result  run network\n",
       "0   -639.513797    0    DDPG\n",
       "1   -124.734663    1    DDPG\n",
       "2    -62.216769    2    DDPG\n",
       "3    -28.504377    3    DDPG\n",
       "4     25.417949    4    DDPG\n",
       "..          ...  ...     ...\n",
       "195  117.113897  195     SAC\n",
       "196  117.453748  196     SAC\n",
       "197  114.541826  197     SAC\n",
       "198  116.738267  198     SAC\n",
       "199  114.742485  199     SAC\n",
       "\n",
       "[1800 rows x 3 columns]"
      ]
     },
     "execution_count": 4,
     "metadata": {},
     "output_type": "execute_result"
    }
   ],
   "source": [
    "ddpglander1avg['run'] = np.arange(200).tolist()\n",
    "ddpglander2avg['run'] = np.arange(200).tolist()\n",
    "ddpglander3avg['run'] = np.arange(200).tolist()\n",
    "ddpglanders = pd.concat([ddpglander1avg, ddpglander2avg, ddpglander3avg])\n",
    "ddpglanders['network'] = \"DDPG\"\n",
    "\n",
    "td3lander1avg['run'] = np.arange(200).tolist()\n",
    "td3lander2avg['run'] = np.arange(200).tolist()\n",
    "td3lander3avg['run'] = np.arange(200).tolist()\n",
    "td3landers = pd.concat([td3lander1avg, td3lander2avg, td3lander3avg])\n",
    "td3landers['network'] = \"TD3\"\n",
    "\n",
    "saclander1avg['run'] = np.arange(200).tolist()\n",
    "saclander2avg['run'] = np.arange(200).tolist()\n",
    "saclander3avg['run'] = np.arange(200).tolist()\n",
    "saclanders = pd.concat([saclander1avg, saclander2avg, saclander3avg])\n",
    "saclanders['network'] = \"SAC\"\n",
    "\n",
    "landers = pd.concat([ddpglanders, td3landers, saclanders])\n",
    "landers.rename(columns = {'0':'result'}, inplace = True)\n",
    "landers"
   ]
  },
  {
   "cell_type": "code",
   "execution_count": 5,
   "id": "69b69c4e",
   "metadata": {},
   "outputs": [
    {
     "data": {
      "text/plain": [
       "\"\\nddpglanders = pd.concat([ddpglander1avg, ddpglander2avg, ddpglander3avg], axis=1)\\nddpglandersavg = ddpglanders.agg('mean', axis=1)\\nddpglandersagg = ddpglanders.agg('std', axis=1)\\n\\ntd3landers = pd.concat([td3lander1avg, td3lander2avg, td3lander3avg], axis=1)\\ntd3landersavg = td3landers.agg('mean', axis=1)\\ntd3landersagg = td3landers.agg('std', axis=1)\\n\\nsaclanders = pd.concat([saclander1avg, saclander2avg, saclander3avg], axis=1)\\nsaclandersavg = saclanders.agg('mean', axis=1)\\nsaclandersagg = saclanders.agg('std', axis=1)\\n\""
      ]
     },
     "execution_count": 5,
     "metadata": {},
     "output_type": "execute_result"
    }
   ],
   "source": [
    "# Average Concats (Unneeded)\n",
    "\"\"\"\n",
    "ddpglanders = pd.concat([ddpglander1avg, ddpglander2avg, ddpglander3avg], axis=1)\n",
    "ddpglandersavg = ddpglanders.agg('mean', axis=1)\n",
    "ddpglandersagg = ddpglanders.agg('std', axis=1)\n",
    "\n",
    "td3landers = pd.concat([td3lander1avg, td3lander2avg, td3lander3avg], axis=1)\n",
    "td3landersavg = td3landers.agg('mean', axis=1)\n",
    "td3landersagg = td3landers.agg('std', axis=1)\n",
    "\n",
    "saclanders = pd.concat([saclander1avg, saclander2avg, saclander3avg], axis=1)\n",
    "saclandersavg = saclanders.agg('mean', axis=1)\n",
    "saclandersagg = saclanders.agg('std', axis=1)\n",
    "\"\"\""
   ]
  },
  {
   "cell_type": "code",
   "execution_count": 6,
   "id": "9c477009",
   "metadata": {},
   "outputs": [],
   "source": [
    "## Mountaincars\n",
    "ddpgmcar1 = pd.read_csv(\"ddpg_MountainCarContinuous-v0_20000_run_0_games.csv\")\n",
    "ddpgmcar2 = pd.read_csv(\"ddpg_MountainCarContinuous-v0_20000_run_1_games.csv\")\n",
    "ddpgmcar3 = pd.read_csv(\"ddpg_MountainCarContinuous-v0_20000_run_2_games.csv\")\n",
    "\n",
    "td3mcar1 = pd.read_csv(\"td3_MountainCarContinuous-v0_20000_run_0_games.csv\")\n",
    "td3mcar2 = pd.read_csv(\"td3_MountainCarContinuous-v0_20000_run_1_games.csv\")\n",
    "td3mcar3 = pd.read_csv(\"td3_MountainCarContinuous-v0_20000_run_2_games.csv\")\n",
    "\n",
    "sacmcar1 = pd.read_csv(\"sac_MountainCarContinuous-v0_20000_run_0_games.csv\")\n",
    "#sacmcar2 = pd.read_csv(\"sac_MountainCarContinuous-v0_20000_run_1_games.csv\")\n",
    "sacmcar2 = pd.read_csv(\"sac_MountainCarContinuous-v0_20000_run_2_games.csv\")\n",
    "sacmcar3 = pd.read_csv(\"sac_MountainCarContinuous-v0_20000_run_3_games.csv\")\n",
    "\n",
    "# Averages\n",
    "ddpgmcar1avg = plot_df(ddpgmcar1)\n",
    "ddpgmcar2avg = plot_df(ddpgmcar2)\n",
    "ddpgmcar3avg = plot_df(ddpgmcar3)\n",
    "\n",
    "td3mcar1avg = plot_df(td3mcar1)\n",
    "td3mcar2avg = plot_df(td3mcar2)\n",
    "td3mcar3avg = plot_df(td3mcar3)\n",
    "\n",
    "sacmcar1avg = plot_df(sacmcar1)\n",
    "sacmcar2avg = plot_df(sacmcar2)\n",
    "sacmcar3avg = plot_df(sacmcar3)"
   ]
  },
  {
   "cell_type": "code",
   "execution_count": 7,
   "id": "e2e733d6",
   "metadata": {},
   "outputs": [
    {
     "data": {
      "text/html": [
       "<div>\n",
       "<style scoped>\n",
       "    .dataframe tbody tr th:only-of-type {\n",
       "        vertical-align: middle;\n",
       "    }\n",
       "\n",
       "    .dataframe tbody tr th {\n",
       "        vertical-align: top;\n",
       "    }\n",
       "\n",
       "    .dataframe thead th {\n",
       "        text-align: right;\n",
       "    }\n",
       "</style>\n",
       "<table border=\"1\" class=\"dataframe\">\n",
       "  <thead>\n",
       "    <tr style=\"text-align: right;\">\n",
       "      <th></th>\n",
       "      <th>result</th>\n",
       "      <th>run</th>\n",
       "      <th>network</th>\n",
       "    </tr>\n",
       "  </thead>\n",
       "  <tbody>\n",
       "    <tr>\n",
       "      <th>0</th>\n",
       "      <td>36.557910</td>\n",
       "      <td>0</td>\n",
       "      <td>DDPG</td>\n",
       "    </tr>\n",
       "    <tr>\n",
       "      <th>1</th>\n",
       "      <td>92.197289</td>\n",
       "      <td>1</td>\n",
       "      <td>DDPG</td>\n",
       "    </tr>\n",
       "    <tr>\n",
       "      <th>2</th>\n",
       "      <td>92.063151</td>\n",
       "      <td>2</td>\n",
       "      <td>DDPG</td>\n",
       "    </tr>\n",
       "    <tr>\n",
       "      <th>3</th>\n",
       "      <td>93.002744</td>\n",
       "      <td>3</td>\n",
       "      <td>DDPG</td>\n",
       "    </tr>\n",
       "    <tr>\n",
       "      <th>4</th>\n",
       "      <td>92.858654</td>\n",
       "      <td>4</td>\n",
       "      <td>DDPG</td>\n",
       "    </tr>\n",
       "    <tr>\n",
       "      <th>...</th>\n",
       "      <td>...</td>\n",
       "      <td>...</td>\n",
       "      <td>...</td>\n",
       "    </tr>\n",
       "    <tr>\n",
       "      <th>195</th>\n",
       "      <td>95.253567</td>\n",
       "      <td>195</td>\n",
       "      <td>SAC</td>\n",
       "    </tr>\n",
       "    <tr>\n",
       "      <th>196</th>\n",
       "      <td>95.210898</td>\n",
       "      <td>196</td>\n",
       "      <td>SAC</td>\n",
       "    </tr>\n",
       "    <tr>\n",
       "      <th>197</th>\n",
       "      <td>95.240109</td>\n",
       "      <td>197</td>\n",
       "      <td>SAC</td>\n",
       "    </tr>\n",
       "    <tr>\n",
       "      <th>198</th>\n",
       "      <td>95.282474</td>\n",
       "      <td>198</td>\n",
       "      <td>SAC</td>\n",
       "    </tr>\n",
       "    <tr>\n",
       "      <th>199</th>\n",
       "      <td>95.227365</td>\n",
       "      <td>199</td>\n",
       "      <td>SAC</td>\n",
       "    </tr>\n",
       "  </tbody>\n",
       "</table>\n",
       "<p>1800 rows × 3 columns</p>\n",
       "</div>"
      ],
      "text/plain": [
       "        result  run network\n",
       "0    36.557910    0    DDPG\n",
       "1    92.197289    1    DDPG\n",
       "2    92.063151    2    DDPG\n",
       "3    93.002744    3    DDPG\n",
       "4    92.858654    4    DDPG\n",
       "..         ...  ...     ...\n",
       "195  95.253567  195     SAC\n",
       "196  95.210898  196     SAC\n",
       "197  95.240109  197     SAC\n",
       "198  95.282474  198     SAC\n",
       "199  95.227365  199     SAC\n",
       "\n",
       "[1800 rows x 3 columns]"
      ]
     },
     "execution_count": 7,
     "metadata": {},
     "output_type": "execute_result"
    }
   ],
   "source": [
    "mcars = pd.DataFrame()\n",
    "ddpgmcar1avg['run'] = np.arange(200).tolist()\n",
    "ddpgmcar2avg['run'] = np.arange(200).tolist()\n",
    "ddpgmcar3avg['run'] = np.arange(200).tolist()\n",
    "ddpgmcars = pd.concat([ddpgmcar1avg, ddpgmcar2avg, ddpgmcar3avg])\n",
    "ddpgmcars['network'] = \"DDPG\"\n",
    "\n",
    "td3mcar1avg['run'] = np.arange(200).tolist()\n",
    "td3mcar2avg['run'] = np.arange(200).tolist()\n",
    "td3mcar3avg['run'] = np.arange(200).tolist()\n",
    "td3mcars = pd.concat([td3mcar1avg, td3mcar2avg, td3mcar3avg])\n",
    "td3mcars['network'] = \"TD3\"\n",
    "\n",
    "sacmcar1avg['run'] = np.arange(200).tolist()\n",
    "sacmcar2avg['run'] = np.arange(200).tolist()\n",
    "sacmcar3avg['run'] = np.arange(200).tolist()\n",
    "sacmcars = pd.concat([sacmcar1avg, sacmcar2avg, sacmcar3avg])\n",
    "sacmcars['network'] = \"SAC\"\n",
    "\n",
    "mcars = pd.concat([ddpgmcars, td3mcars, sacmcars])\n",
    "mcars.rename(columns = {'0':'result'}, inplace = True)\n",
    "mcars"
   ]
  },
  {
   "cell_type": "code",
   "execution_count": 8,
   "id": "48ccafcb",
   "metadata": {},
   "outputs": [
    {
     "data": {
      "text/plain": [
       "\"\\nddpgmcars = pd.concat([ddpgmcar1avg, ddpgmcar2avg, ddpgmcar3avg], axis=1)\\nddpgmcarsavg = ddpgmcars.agg('mean', axis=1)\\nddpgmcarsagg = ddpgmcars.agg('std', axis=1)\\n\\ntd3mcars = pd.concat([td3mcar1avg, td3mcar2avg, td3mcar3avg], axis=1)\\ntd3mcarsavg = td3mcars.agg('mean', axis=1)\\ntd3mcarsagg = td3mcars.agg('std', axis=1)\\n\\nsacmcars = pd.concat([sacmcar1avg, sacmcar2avg, sacmcar3avg], axis=1)\\nsacmcarsavg = sacmcars.agg('mean', axis=1)\\nsacmcarsagg = sacmcars.agg('std', axis=1)\\n\""
      ]
     },
     "execution_count": 8,
     "metadata": {},
     "output_type": "execute_result"
    }
   ],
   "source": [
    "# Average Concats\n",
    "\"\"\"\n",
    "ddpgmcars = pd.concat([ddpgmcar1avg, ddpgmcar2avg, ddpgmcar3avg], axis=1)\n",
    "ddpgmcarsavg = ddpgmcars.agg('mean', axis=1)\n",
    "ddpgmcarsagg = ddpgmcars.agg('std', axis=1)\n",
    "\n",
    "td3mcars = pd.concat([td3mcar1avg, td3mcar2avg, td3mcar3avg], axis=1)\n",
    "td3mcarsavg = td3mcars.agg('mean', axis=1)\n",
    "td3mcarsagg = td3mcars.agg('std', axis=1)\n",
    "\n",
    "sacmcars = pd.concat([sacmcar1avg, sacmcar2avg, sacmcar3avg], axis=1)\n",
    "sacmcarsavg = sacmcars.agg('mean', axis=1)\n",
    "sacmcarsagg = sacmcars.agg('std', axis=1)\n",
    "\"\"\""
   ]
  },
  {
   "cell_type": "code",
   "execution_count": 9,
   "id": "3596c14e",
   "metadata": {},
   "outputs": [],
   "source": [
    "## HopperBullets\n",
    "td3hopperbullet1 = pd.read_csv(\"td3_HopperBulletEnv-v0_40000_run_0_games.csv\")\n",
    "td3hopperbullet2 = pd.read_csv(\"td3_HopperBulletEnv-v0_40000_run_1_games.csv\")\n",
    "td3hopperbullet3 = pd.read_csv(\"td3_HopperBulletEnv-v0_40000_run_2_games.csv\")\n",
    "\n",
    "sachopperbullet1 = pd.read_csv(\"sac_HopperBulletEnv-v0_40000_run_0_games.csv\")\n",
    "sachopperbullet2 = pd.read_csv(\"sac_HopperBulletEnv-v0_40000_run_1_games.csv\")\n",
    "sachopperbullet3 = pd.read_csv(\"sac_HopperBulletEnv-v0_40000_run_2_games.csv\")\n",
    "\n",
    "ddpghopperbullet1 = pd.read_csv(\"ddpg_HopperBulletEnv-v0_40000_run_0_games.csv\")\n",
    "ddpghopperbullet2 = pd.read_csv(\"ddpg_HopperBulletEnv-v0_40000_run_1_games.csv\")\n",
    "ddpghopperbullet3 = pd.read_csv(\"ddpg_HopperBulletEnv-v0_40000_run_2_games.csv\")\n",
    "\n",
    "# Averages\n",
    "ddpghopperbullet1avg = plot_df(ddpghopperbullet1)\n",
    "ddpghopperbullet2avg = plot_df(ddpghopperbullet2)\n",
    "ddpghopperbullet3avg = plot_df(ddpghopperbullet3)\n",
    "\n",
    "td3hopperbullet1avg = plot_df(td3hopperbullet1)\n",
    "td3hopperbullet2avg = plot_df(td3hopperbullet2)\n",
    "td3hopperbullet3avg = plot_df(td3hopperbullet3)\n",
    "\n",
    "sachopperbullet1avg = plot_df(sachopperbullet1)\n",
    "sachopperbullet2avg = plot_df(sachopperbullet2)\n",
    "sachopperbullet3avg = plot_df(sachopperbullet3)"
   ]
  },
  {
   "cell_type": "code",
   "execution_count": 10,
   "id": "e854a547",
   "metadata": {},
   "outputs": [
    {
     "data": {
      "text/html": [
       "<div>\n",
       "<style scoped>\n",
       "    .dataframe tbody tr th:only-of-type {\n",
       "        vertical-align: middle;\n",
       "    }\n",
       "\n",
       "    .dataframe tbody tr th {\n",
       "        vertical-align: top;\n",
       "    }\n",
       "\n",
       "    .dataframe thead th {\n",
       "        text-align: right;\n",
       "    }\n",
       "</style>\n",
       "<table border=\"1\" class=\"dataframe\">\n",
       "  <thead>\n",
       "    <tr style=\"text-align: right;\">\n",
       "      <th></th>\n",
       "      <th>result</th>\n",
       "      <th>run</th>\n",
       "      <th>network</th>\n",
       "    </tr>\n",
       "  </thead>\n",
       "  <tbody>\n",
       "    <tr>\n",
       "      <th>0</th>\n",
       "      <td>18.463585</td>\n",
       "      <td>0</td>\n",
       "      <td>DDPG</td>\n",
       "    </tr>\n",
       "    <tr>\n",
       "      <th>1</th>\n",
       "      <td>15.275089</td>\n",
       "      <td>1</td>\n",
       "      <td>DDPG</td>\n",
       "    </tr>\n",
       "    <tr>\n",
       "      <th>2</th>\n",
       "      <td>15.292862</td>\n",
       "      <td>2</td>\n",
       "      <td>DDPG</td>\n",
       "    </tr>\n",
       "    <tr>\n",
       "      <th>3</th>\n",
       "      <td>15.419434</td>\n",
       "      <td>3</td>\n",
       "      <td>DDPG</td>\n",
       "    </tr>\n",
       "    <tr>\n",
       "      <th>4</th>\n",
       "      <td>15.227684</td>\n",
       "      <td>4</td>\n",
       "      <td>DDPG</td>\n",
       "    </tr>\n",
       "    <tr>\n",
       "      <th>...</th>\n",
       "      <td>...</td>\n",
       "      <td>...</td>\n",
       "      <td>...</td>\n",
       "    </tr>\n",
       "    <tr>\n",
       "      <th>395</th>\n",
       "      <td>1323.909187</td>\n",
       "      <td>395</td>\n",
       "      <td>SAC</td>\n",
       "    </tr>\n",
       "    <tr>\n",
       "      <th>396</th>\n",
       "      <td>1322.084662</td>\n",
       "      <td>396</td>\n",
       "      <td>SAC</td>\n",
       "    </tr>\n",
       "    <tr>\n",
       "      <th>397</th>\n",
       "      <td>1368.771131</td>\n",
       "      <td>397</td>\n",
       "      <td>SAC</td>\n",
       "    </tr>\n",
       "    <tr>\n",
       "      <th>398</th>\n",
       "      <td>1332.933846</td>\n",
       "      <td>398</td>\n",
       "      <td>SAC</td>\n",
       "    </tr>\n",
       "    <tr>\n",
       "      <th>399</th>\n",
       "      <td>1295.537703</td>\n",
       "      <td>399</td>\n",
       "      <td>SAC</td>\n",
       "    </tr>\n",
       "  </tbody>\n",
       "</table>\n",
       "<p>3525 rows × 3 columns</p>\n",
       "</div>"
      ],
      "text/plain": [
       "          result  run network\n",
       "0      18.463585    0    DDPG\n",
       "1      15.275089    1    DDPG\n",
       "2      15.292862    2    DDPG\n",
       "3      15.419434    3    DDPG\n",
       "4      15.227684    4    DDPG\n",
       "..           ...  ...     ...\n",
       "395  1323.909187  395     SAC\n",
       "396  1322.084662  396     SAC\n",
       "397  1368.771131  397     SAC\n",
       "398  1332.933846  398     SAC\n",
       "399  1295.537703  399     SAC\n",
       "\n",
       "[3525 rows x 3 columns]"
      ]
     },
     "execution_count": 10,
     "metadata": {},
     "output_type": "execute_result"
    }
   ],
   "source": [
    "hopperbullets = pd.DataFrame()\n",
    "ddpghopperbullet1avg['run'] = np.arange(365).tolist()\n",
    "ddpghopperbullet2avg['run'] = np.arange(360).tolist()\n",
    "ddpghopperbullet3avg['run'] = np.arange(400).tolist()\n",
    "ddpghopperbullets = pd.concat([ddpghopperbullet1avg, ddpghopperbullet2avg, ddpghopperbullet3avg])\n",
    "ddpghopperbullets['network'] = \"DDPG\"\n",
    "\n",
    "td3hopperbullet1avg['run'] = np.arange(400).tolist()\n",
    "td3hopperbullet2avg['run'] = np.arange(400).tolist()\n",
    "td3hopperbullet3avg['run'] = np.arange(400).tolist()\n",
    "td3hopperbullets = pd.concat([td3hopperbullet1avg, td3hopperbullet2avg, td3hopperbullet3avg])\n",
    "td3hopperbullets['network'] = \"TD3\"\n",
    "\n",
    "sachopperbullet1avg['run'] = np.arange(400).tolist()\n",
    "sachopperbullet2avg['run'] = np.arange(400).tolist()\n",
    "sachopperbullet3avg['run'] = np.arange(400).tolist()\n",
    "sachopperbullets = pd.concat([sachopperbullet1avg, sachopperbullet2avg, sachopperbullet3avg])\n",
    "sachopperbullets['network'] = \"SAC\"\n",
    "\n",
    "hopperbullets = pd.concat([ddpghopperbullets, td3hopperbullets, sachopperbullets])\n",
    "hopperbullets.rename(columns = {'0':'result'}, inplace = True)\n",
    "hopperbullets"
   ]
  },
  {
   "cell_type": "code",
   "execution_count": 11,
   "id": "1d093265",
   "metadata": {},
   "outputs": [
    {
     "data": {
      "text/plain": [
       "\"\\nddpghoppers = pd.concat([ddpghopperbullet1avg, ddpghopperbullet2avg, ddpghopperbullet3avg], axis=1)\\nddpghoppersavg = ddpghoppers.agg('mean', axis=1)\\nddpghoppersagg = ddpghoppers.agg('std', axis=1)\\nddpghoppersagg = ddpghoppersagg.fillna(0) # since last 400 ish results were cut off (fill agg after since this is std dev)\\n\\ntd3hoppers = pd.concat([td3hopperbullet1avg, td3hopperbullet2avg, td3hopperbullet3avg], axis=1)\\ntd3hoppersavg = td3hoppers.agg('mean', axis=1)\\ntd3hoppersagg = td3hoppers.agg('std', axis=1)\\n\\nsachoppers = pd.concat([sachopperbullet1avg, sachopperbullet2avg, sachopperbullet3avg], axis=1)\\nsachoppersavg = sachoppers.agg('mean', axis=1)\\nsachoppersagg = sachoppers.agg('std', axis=1)\\n\""
      ]
     },
     "execution_count": 11,
     "metadata": {},
     "output_type": "execute_result"
    }
   ],
   "source": [
    "# Average Concats\n",
    "\"\"\"\n",
    "ddpghoppers = pd.concat([ddpghopperbullet1avg, ddpghopperbullet2avg, ddpghopperbullet3avg], axis=1)\n",
    "ddpghoppersavg = ddpghoppers.agg('mean', axis=1)\n",
    "ddpghoppersagg = ddpghoppers.agg('std', axis=1)\n",
    "ddpghoppersagg = ddpghoppersagg.fillna(0) # since last 400 ish results were cut off (fill agg after since this is std dev)\n",
    "\n",
    "td3hoppers = pd.concat([td3hopperbullet1avg, td3hopperbullet2avg, td3hopperbullet3avg], axis=1)\n",
    "td3hoppersavg = td3hoppers.agg('mean', axis=1)\n",
    "td3hoppersagg = td3hoppers.agg('std', axis=1)\n",
    "\n",
    "sachoppers = pd.concat([sachopperbullet1avg, sachopperbullet2avg, sachopperbullet3avg], axis=1)\n",
    "sachoppersavg = sachoppers.agg('mean', axis=1)\n",
    "sachoppersagg = sachoppers.agg('std', axis=1)\n",
    "\"\"\""
   ]
  },
  {
   "cell_type": "code",
   "execution_count": 14,
   "id": "2a9ee738",
   "metadata": {
    "scrolled": true
   },
   "outputs": [
    {
     "data": {
      "text/plain": [
       "'\\nddpglandersagg\\ntd3landersagg\\nsaclandersagg\\n\\nddpgmcarsagg\\ntd3mcarsagg\\nsacmcarsagg\\n\\nddpghoppersagg\\ntd3hoppersagg\\nsachoppersagg\\n\\n## All means\\nddpglandersavg\\ntd3landersavg\\nsaclandersavg\\n\\nddpgmcarsavg\\ntd3mcarsavg\\nsacmcarsavg\\n\\nddpghoppersavg\\ntd3hoppersavg\\nsachoppersavg\\n'"
      ]
     },
     "execution_count": 14,
     "metadata": {},
     "output_type": "execute_result"
    }
   ],
   "source": [
    "## All standard deviations\n",
    "\"\"\"\n",
    "ddpglandersagg\n",
    "td3landersagg\n",
    "saclandersagg\n",
    "\n",
    "ddpgmcarsagg\n",
    "td3mcarsagg\n",
    "sacmcarsagg\n",
    "\n",
    "ddpghoppersagg\n",
    "td3hoppersagg\n",
    "sachoppersagg\n",
    "\n",
    "## All means\n",
    "ddpglandersavg\n",
    "td3landersavg\n",
    "saclandersavg\n",
    "\n",
    "ddpgmcarsavg\n",
    "td3mcarsavg\n",
    "sacmcarsavg\n",
    "\n",
    "ddpghoppersavg\n",
    "td3hoppersavg\n",
    "sachoppersavg\n",
    "\"\"\""
   ]
  },
  {
   "cell_type": "code",
   "execution_count": 15,
   "id": "da1e8fe6",
   "metadata": {},
   "outputs": [
    {
     "name": "stdout",
     "output_type": "stream",
     "text": [
      "(600, 3)\n"
     ]
    },
    {
     "data": {
      "text/html": [
       "<div>\n",
       "<style scoped>\n",
       "    .dataframe tbody tr th:only-of-type {\n",
       "        vertical-align: middle;\n",
       "    }\n",
       "\n",
       "    .dataframe tbody tr th {\n",
       "        vertical-align: top;\n",
       "    }\n",
       "\n",
       "    .dataframe thead th {\n",
       "        text-align: right;\n",
       "    }\n",
       "</style>\n",
       "<table border=\"1\" class=\"dataframe\">\n",
       "  <thead>\n",
       "    <tr style=\"text-align: right;\">\n",
       "      <th></th>\n",
       "      <th>0</th>\n",
       "      <th>run</th>\n",
       "      <th>network</th>\n",
       "    </tr>\n",
       "  </thead>\n",
       "  <tbody>\n",
       "    <tr>\n",
       "      <th>0</th>\n",
       "      <td>-639.513797</td>\n",
       "      <td>0</td>\n",
       "      <td>DDPG</td>\n",
       "    </tr>\n",
       "    <tr>\n",
       "      <th>1</th>\n",
       "      <td>-124.734663</td>\n",
       "      <td>1</td>\n",
       "      <td>DDPG</td>\n",
       "    </tr>\n",
       "    <tr>\n",
       "      <th>2</th>\n",
       "      <td>-62.216769</td>\n",
       "      <td>2</td>\n",
       "      <td>DDPG</td>\n",
       "    </tr>\n",
       "    <tr>\n",
       "      <th>3</th>\n",
       "      <td>-28.504377</td>\n",
       "      <td>3</td>\n",
       "      <td>DDPG</td>\n",
       "    </tr>\n",
       "    <tr>\n",
       "      <th>4</th>\n",
       "      <td>25.417949</td>\n",
       "      <td>4</td>\n",
       "      <td>DDPG</td>\n",
       "    </tr>\n",
       "    <tr>\n",
       "      <th>...</th>\n",
       "      <td>...</td>\n",
       "      <td>...</td>\n",
       "      <td>...</td>\n",
       "    </tr>\n",
       "    <tr>\n",
       "      <th>195</th>\n",
       "      <td>261.024592</td>\n",
       "      <td>195</td>\n",
       "      <td>DDPG</td>\n",
       "    </tr>\n",
       "    <tr>\n",
       "      <th>196</th>\n",
       "      <td>277.982556</td>\n",
       "      <td>196</td>\n",
       "      <td>DDPG</td>\n",
       "    </tr>\n",
       "    <tr>\n",
       "      <th>197</th>\n",
       "      <td>250.061824</td>\n",
       "      <td>197</td>\n",
       "      <td>DDPG</td>\n",
       "    </tr>\n",
       "    <tr>\n",
       "      <th>198</th>\n",
       "      <td>250.358092</td>\n",
       "      <td>198</td>\n",
       "      <td>DDPG</td>\n",
       "    </tr>\n",
       "    <tr>\n",
       "      <th>199</th>\n",
       "      <td>254.364122</td>\n",
       "      <td>199</td>\n",
       "      <td>DDPG</td>\n",
       "    </tr>\n",
       "  </tbody>\n",
       "</table>\n",
       "<p>600 rows × 3 columns</p>\n",
       "</div>"
      ],
      "text/plain": [
       "              0  run network\n",
       "0   -639.513797    0    DDPG\n",
       "1   -124.734663    1    DDPG\n",
       "2    -62.216769    2    DDPG\n",
       "3    -28.504377    3    DDPG\n",
       "4     25.417949    4    DDPG\n",
       "..          ...  ...     ...\n",
       "195  261.024592  195    DDPG\n",
       "196  277.982556  196    DDPG\n",
       "197  250.061824  197    DDPG\n",
       "198  250.358092  198    DDPG\n",
       "199  254.364122  199    DDPG\n",
       "\n",
       "[600 rows x 3 columns]"
      ]
     },
     "execution_count": 15,
     "metadata": {},
     "output_type": "execute_result"
    }
   ],
   "source": [
    "print(ddpglanders.shape)\n",
    "ddpglanders"
   ]
  },
  {
   "cell_type": "code",
   "execution_count": 16,
   "id": "4240b7c4",
   "metadata": {},
   "outputs": [
    {
     "data": {
      "text/plain": [
       "(600, 3)"
      ]
     },
     "execution_count": 16,
     "metadata": {},
     "output_type": "execute_result"
    }
   ],
   "source": [
    "ddpglanders.shape"
   ]
  },
  {
   "cell_type": "code",
   "execution_count": 17,
   "id": "dbb78104",
   "metadata": {},
   "outputs": [],
   "source": [
    "ddpglander1copy = ddpglander1.copy()\n",
    "ddpglander2copy = ddpglander2.copy()\n",
    "ddpglander3copy = ddpglander3.copy()"
   ]
  },
  {
   "cell_type": "code",
   "execution_count": 18,
   "id": "d5e8b12f",
   "metadata": {},
   "outputs": [],
   "source": [
    "ddpglander1copyavg = plot_df(ddpglander1copy)\n",
    "ddpglander2copyavg = plot_df(ddpglander2copy)\n",
    "ddpglander3copyavg = plot_df(ddpglander3copy)"
   ]
  },
  {
   "cell_type": "code",
   "execution_count": 19,
   "id": "d45b8343",
   "metadata": {
    "scrolled": true
   },
   "outputs": [
    {
     "data": {
      "text/html": [
       "<div>\n",
       "<style scoped>\n",
       "    .dataframe tbody tr th:only-of-type {\n",
       "        vertical-align: middle;\n",
       "    }\n",
       "\n",
       "    .dataframe tbody tr th {\n",
       "        vertical-align: top;\n",
       "    }\n",
       "\n",
       "    .dataframe thead th {\n",
       "        text-align: right;\n",
       "    }\n",
       "</style>\n",
       "<table border=\"1\" class=\"dataframe\">\n",
       "  <thead>\n",
       "    <tr style=\"text-align: right;\">\n",
       "      <th></th>\n",
       "      <th>0</th>\n",
       "    </tr>\n",
       "  </thead>\n",
       "  <tbody>\n",
       "    <tr>\n",
       "      <th>0</th>\n",
       "      <td>-639.513797</td>\n",
       "    </tr>\n",
       "    <tr>\n",
       "      <th>1</th>\n",
       "      <td>-124.734663</td>\n",
       "    </tr>\n",
       "    <tr>\n",
       "      <th>2</th>\n",
       "      <td>-62.216769</td>\n",
       "    </tr>\n",
       "    <tr>\n",
       "      <th>3</th>\n",
       "      <td>-28.504377</td>\n",
       "    </tr>\n",
       "    <tr>\n",
       "      <th>4</th>\n",
       "      <td>25.417949</td>\n",
       "    </tr>\n",
       "    <tr>\n",
       "      <th>...</th>\n",
       "      <td>...</td>\n",
       "    </tr>\n",
       "    <tr>\n",
       "      <th>195</th>\n",
       "      <td>278.556981</td>\n",
       "    </tr>\n",
       "    <tr>\n",
       "      <th>196</th>\n",
       "      <td>268.502933</td>\n",
       "    </tr>\n",
       "    <tr>\n",
       "      <th>197</th>\n",
       "      <td>265.344281</td>\n",
       "    </tr>\n",
       "    <tr>\n",
       "      <th>198</th>\n",
       "      <td>268.018980</td>\n",
       "    </tr>\n",
       "    <tr>\n",
       "      <th>199</th>\n",
       "      <td>276.318555</td>\n",
       "    </tr>\n",
       "  </tbody>\n",
       "</table>\n",
       "<p>200 rows × 1 columns</p>\n",
       "</div>"
      ],
      "text/plain": [
       "              0\n",
       "0   -639.513797\n",
       "1   -124.734663\n",
       "2    -62.216769\n",
       "3    -28.504377\n",
       "4     25.417949\n",
       "..          ...\n",
       "195  278.556981\n",
       "196  268.502933\n",
       "197  265.344281\n",
       "198  268.018980\n",
       "199  276.318555\n",
       "\n",
       "[200 rows x 1 columns]"
      ]
     },
     "execution_count": 19,
     "metadata": {},
     "output_type": "execute_result"
    }
   ],
   "source": [
    "ddpglander1copyavg"
   ]
  },
  {
   "cell_type": "code",
   "execution_count": 27,
   "id": "1161e6e8",
   "metadata": {
    "scrolled": false
   },
   "outputs": [
    {
     "data": {
      "text/plain": [
       "[Text(0.5, 0, '100 Epochs'),\n",
       " Text(0, 0.5, 'Average Reward'),\n",
       " Text(0.5, 1.0, 'Experiment 2')]"
      ]
     },
     "execution_count": 27,
     "metadata": {},
     "output_type": "execute_result"
    },
    {
     "data": {
      "image/png": "[encoded data removed]",
      "text/plain": [
       "<Figure size 432x288 with 1 Axes>"
      ]
     },
     "metadata": {
      "needs_background": "light"
     },
     "output_type": "display_data"
    }
   ],
   "source": [
    "llax = sns.lineplot(x=\"run\", y=\"result\", data=landers, hue=\"network\", ci='sd')\n",
    "llax.set(xlabel=\"100 Epochs\", ylabel=\"Average Reward\", title=\"Experiment 2\") # Lunar Lander\n",
    "#sns.lineplot(x=\"run\", y=\"result\", data=ddpglanders)\n",
    "#sns.lineplot(x=\"run\", y=\"result\", data=td3landers)\n",
    "#sns.lineplot(x=\"run\", y=\"result\", data=saclanders)"
   ]
  },
  {
   "cell_type": "code",
   "execution_count": 30,
   "id": "4bf8afa9",
   "metadata": {},
   "outputs": [
    {
     "data": {
      "text/plain": [
       "[Text(0.5, 0, '100 Epochs'),\n",
       " Text(0, 0.5, 'Average Reward'),\n",
       " Text(0.5, 1.0, 'Experiment 3')]"
      ]
     },
     "execution_count": 30,
     "metadata": {},
     "output_type": "execute_result"
    },
    {
     "data": {
      "image/png": "[encoded data removed]",
      "text/plain": [
       "<Figure size 432x288 with 1 Axes>"
      ]
     },
     "metadata": {
      "needs_background": "light"
     },
     "output_type": "display_data"
    }
   ],
   "source": [
    "mcarax = sns.lineplot(x=\"run\", y=\"result\", data=mcars, hue=\"network\", ci='sd')\n",
    "mcarax.set(xlabel=\"100 Epochs\", ylabel=\"Average Reward\", title=\"Experiment 3\") #Mountaincar Network Reward\n",
    "#sns.lineplot(x=\"run\", y=\"0\", data=ddpgmcars, ci='sd')"
   ]
  },
  {
   "cell_type": "code",
   "execution_count": 29,
   "id": "3f27bcb5",
   "metadata": {},
   "outputs": [
    {
     "data": {
      "text/plain": [
       "[Text(0.5, 0, '100 Epochs'),\n",
       " Text(0, 0.5, 'Average Reward'),\n",
       " Text(0.5, 1.0, 'Experiment 1')]"
      ]
     },
     "execution_count": 29,
     "metadata": {},
     "output_type": "execute_result"
    },
    {
     "data": {
      "image/png": "[encoded data removed]",
      "text/plain": [
       "<Figure size 432x288 with 1 Axes>"
      ]
     },
     "metadata": {
      "needs_background": "light"
     },
     "output_type": "display_data"
    }
   ],
   "source": [
    "hbax = sns.lineplot(x=\"run\", y=\"result\", data=hopperbullets, hue=\"network\", ci='sd')\n",
    "hbax.set(xlabel=\"100 Epochs\", ylabel=\"Average Reward\", title=\"Experiment 1\") #HopperBullet Reward"
   ]
  },
  {
   "cell_type": "code",
   "execution_count": null,
   "id": "f7c28453",
   "metadata": {},
   "outputs": [],
   "source": []
  },
  {
   "cell_type": "code",
   "execution_count": null,
   "id": "2e887b6b",
   "metadata": {},
   "outputs": [],
   "source": []
  }
 ],
 "metadata": {
  "kernelspec": {
   "display_name": "Python 3",
   "language": "python",
   "name": "python3"
  },
  "language_info": {
   "codemirror_mode": {
    "name": "ipython",
    "version": 3
   },
   "file_extension": ".py",
   "mimetype": "text/x-python",
   "name": "python",
   "nbconvert_exporter": "python",
   "pygments_lexer": "ipython3",
   "version": "3.8.3"
  }
 },
 "nbformat": 4,
 "nbformat_minor": 5
}
